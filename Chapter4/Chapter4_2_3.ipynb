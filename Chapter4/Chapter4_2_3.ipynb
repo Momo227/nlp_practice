{
  "nbformat": 4,
  "nbformat_minor": 0,
  "metadata": {
    "colab": {
      "name": "Chapter4_2_3.ipynb",
      "provenance": [],
      "collapsed_sections": [],
      "authorship_tag": "ABX9TyOCPdtbUoNmCZwVx4g8MYyn",
      "include_colab_link": true
    },
    "kernelspec": {
      "name": "python3",
      "display_name": "Python 3"
    },
    "language_info": {
      "name": "python"
    }
  },
  "cells": [
    {
      "cell_type": "markdown",
      "metadata": {
        "id": "view-in-github",
        "colab_type": "text"
      },
      "source": [
        "<a href=\"https://colab.research.google.com/github/Momo227/nlp_practice/blob/Chapter4/Chapter4/Chapter4_2_3.ipynb\" target=\"_parent\"><img src=\"https://colab.research.google.com/assets/colab-badge.svg\" alt=\"Open In Colab\"/></a>"
      ]
    },
    {
      "cell_type": "markdown",
      "metadata": {
        "id": "Fo0EalZP9qkO"
      },
      "source": [
        "**単語の正規化**：単語の文字種の統一、綴りや表記揺れの吸収といった、単語を置き換える処理\n",
        "\n",
        " 　　→全角の「ネコ」と半角の「ﾈｺ」、ひらがなの「ねこ」を同じ単語として処理できるようになる。\n",
        "  \n",
        "・後続の処理における計算量や、メモリの使用量の観点から見ても重要な処理。\n",
        "\n",
        "処理の種類\n",
        "* 文字種の統一\n",
        "* 数字の置き換え\n",
        "* 辞書を用いた単語の統一\n"
      ]
    },
    {
      "cell_type": "markdown",
      "metadata": {
        "id": "E1vOBOvtrgnf"
      },
      "source": [
        "**文字種の統一**：大文字・小文字、半角・全角を統一する。"
      ]
    },
    {
      "cell_type": "markdown",
      "metadata": {
        "id": "tkx3gHT7sPOk"
      },
      "source": [
        "* 小文字化 : lowerメソッド\n",
        "* 大文字化 : upperメソッド\n",
        "* 各単語の先頭文字だけを大文字化 : titleメソッド"
      ]
    },
    {
      "cell_type": "code",
      "metadata": {
        "colab": {
          "base_uri": "https://localhost:8080/",
          "height": 35
        },
        "id": "EF7aiP6N9mu_",
        "outputId": "163db9d1-6098-49f9-d1f1-966078c29677"
      },
      "source": [
        "text = 'President Obama is speaking at the White House.'\n",
        "text.lower()"
      ],
      "execution_count": 5,
      "outputs": [
        {
          "output_type": "execute_result",
          "data": {
            "application/vnd.google.colaboratory.intrinsic+json": {
              "type": "string"
            },
            "text/plain": [
              "'president obama is speaking at the white house.'"
            ]
          },
          "metadata": {
            "tags": []
          },
          "execution_count": 5
        }
      ]
    },
    {
      "cell_type": "code",
      "metadata": {
        "colab": {
          "base_uri": "https://localhost:8080/",
          "height": 35
        },
        "id": "wEBZ_GIbxmTm",
        "outputId": "f6ea1b6a-324d-4583-b932-479d39fa13c2"
      },
      "source": [
        "text.upper()"
      ],
      "execution_count": 3,
      "outputs": [
        {
          "output_type": "execute_result",
          "data": {
            "application/vnd.google.colaboratory.intrinsic+json": {
              "type": "string"
            },
            "text/plain": [
              "'PRESIDENT OBAMA IS SPEAKING AT THE WHITE HOUSE.'"
            ]
          },
          "metadata": {
            "tags": []
          },
          "execution_count": 3
        }
      ]
    },
    {
      "cell_type": "code",
      "metadata": {
        "colab": {
          "base_uri": "https://localhost:8080/",
          "height": 35
        },
        "id": "MrUnMRuox0pI",
        "outputId": "4972b93f-4801-4825-a825-f188597244bd"
      },
      "source": [
        "text.title()"
      ],
      "execution_count": 4,
      "outputs": [
        {
          "output_type": "execute_result",
          "data": {
            "application/vnd.google.colaboratory.intrinsic+json": {
              "type": "string"
            },
            "text/plain": [
              "'President Obama Is Speaking At The White House.'"
            ]
          },
          "metadata": {
            "tags": []
          },
          "execution_count": 4
        }
      ]
    },
    {
      "cell_type": "markdown",
      "metadata": {
        "id": "wVW2A3Evwm4J"
      },
      "source": [
        "**数字の置き換え** : テキスト中に出現する数字を別の記号[例えば０]に置き換える。\n",
        "\n",
        "数値を行う理由\n",
        "* 数値表現が多様で出現頻度が高い割には自然言語処理のタスクに役に立たないことが多い。\n",
        "* カテゴリ分類には数値はあまり関係ない→語彙数を減らしたい。"
      ]
    },
    {
      "cell_type": "markdown",
      "metadata": {
        "id": "XxHTSnTZF60p"
      },
      "source": [
        "今回は、\n",
        "* 正規表現モジュールを使用\n",
        "* re.sub関数を使用"
      ]
    },
    {
      "cell_type": "markdown",
      "metadata": {
        "id": "FQlmOwqKNvnK"
      },
      "source": [
        "「\\d+」：パターンとして一つ以上の連続した数値を表す。\n",
        "* マッチしたパターンは0に置き換える。"
      ]
    },
    {
      "cell_type": "code",
      "metadata": {
        "colab": {
          "base_uri": "https://localhost:8080/",
          "height": 35
        },
        "id": "_L_ScXIoIAYe",
        "outputId": "e2c50dc5-4b52-4868-e7bb-11c08b51fe42"
      },
      "source": [
        "import re\n",
        "def normalize_number(text):\n",
        "    replace_text = re.sub(r'\\d+', '0', text)\n",
        "    return replace_text\n",
        "\n",
        "text = '2万0689・24ドル'\n",
        "normalize_number(text)"
      ],
      "execution_count": 6,
      "outputs": [
        {
          "output_type": "execute_result",
          "data": {
            "application/vnd.google.colaboratory.intrinsic+json": {
              "type": "string"
            },
            "text/plain": [
              "'0万0・0ドル'"
            ]
          },
          "metadata": {
            "tags": []
          },
          "execution_count": 6
        }
      ]
    },
    {
      "cell_type": "markdown",
      "metadata": {
        "id": "hEc4ti35JUWk"
      },
      "source": [
        "「\\d」：パターンとして数字一文字を表す。\n",
        "* 文字数が変化するのを避けたい場合に使う。\n",
        "* 文字数を変えずに数字を０に置き換える。"
      ]
    },
    {
      "cell_type": "code",
      "metadata": {
        "colab": {
          "base_uri": "https://localhost:8080/",
          "height": 35
        },
        "id": "JLU69tGaJIwl",
        "outputId": "511e724c-59c6-4b87-e936-7fb0f8aeaeab"
      },
      "source": [
        "def normalize_number(text):\n",
        "    replace_text = re.sub(r'\\d', '0', text)\n",
        "    return replace_text\n",
        "\n",
        "normalize_number(text)"
      ],
      "execution_count": 7,
      "outputs": [
        {
          "output_type": "execute_result",
          "data": {
            "application/vnd.google.colaboratory.intrinsic+json": {
              "type": "string"
            },
            "text/plain": [
              "'0万0000・00ドル'"
            ]
          },
          "metadata": {
            "tags": []
          },
          "execution_count": 7
        }
      ]
    },
    {
      "cell_type": "markdown",
      "metadata": {
        "id": "6JrlWTmnOs-U"
      },
      "source": [
        "**辞書を用いた単語の統一**：単語を代表的な表現に置き換える。\n",
        "* 文脈を考慮して置き換える必要あり。"
      ]
    },
    {
      "cell_type": "markdown",
      "metadata": {
        "id": "gCXqlEJLrL0Y"
      },
      "source": [
        "単語正規化の種類\n",
        "* 正規化\n",
        "* 綴りの揺れ吸収（colour→color）\n",
        "* 省略語の処理（4ever→forever）\n",
        "* 口語表現の代表化（っす→です）\n",
        "\n",
        "完全に解決するのは難しいので、ときには割り切りましょう。"
      ]
    }
  ]
}