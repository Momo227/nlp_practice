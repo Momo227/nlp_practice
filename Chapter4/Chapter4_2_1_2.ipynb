{
  "nbformat": 4,
  "nbformat_minor": 0,
  "metadata": {
    "colab": {
      "name": "Chapter4_2_1_2.ipynb",
      "provenance": [],
      "collapsed_sections": [],
      "authorship_tag": "ABX9TyM7JwJUR0R4J5W/jCoHLaun",
      "include_colab_link": true
    },
    "kernelspec": {
      "name": "python3",
      "display_name": "Python 3"
    },
    "language_info": {
      "name": "python"
    }
  },
  "cells": [
    {
      "cell_type": "markdown",
      "metadata": {
        "id": "view-in-github",
        "colab_type": "text"
      },
      "source": [
        "<a href=\"https://colab.research.google.com/github/Momo227/nlp_practice/blob/Chapter4/Chapter4/Chapter4_2_1_2.ipynb\" target=\"_parent\"><img src=\"https://colab.research.google.com/assets/colab-badge.svg\" alt=\"Open In Colab\"/></a>"
      ]
    },
    {
      "cell_type": "markdown",
      "metadata": {
        "id": "uZN0zybUs-yQ"
      },
      "source": [
        "**テキストのクリーニング** : テキスト内に含まれるノイズを除去。\n",
        "\n",
        "除去されるノイズ\n",
        "\n",
        "* JavaScriptのコード\n",
        "* HTMLタグ\n",
        "\n",
        "使用するパッケージ\n",
        "* Beautiful Soup\n",
        "* lxml\n"
      ]
    },
    {
      "cell_type": "markdown",
      "metadata": {
        "id": "relgG8cLt2nN"
      },
      "source": [
        "HTMLタグをBeautiful Soupを用いて除去する。"
      ]
    },
    {
      "cell_type": "code",
      "metadata": {
        "id": "og4IEY3WodSu"
      },
      "source": [
        "html = \"\"\"\n",
        "    <html>\n",
        "      <boby>\n",
        "        これは<a href=\"http://example.com\">Example</a>です。\n",
        "      </boby>\n",
        "    </html>\"\"\""
      ],
      "execution_count": null,
      "outputs": []
    },
    {
      "cell_type": "markdown",
      "metadata": {
        "id": "RG6-sCEOukvk"
      },
      "source": [
        "Beautiful Soupを使ってHTMLタグを除去する関数を定義する。\n",
        "\n",
        "\n",
        "1.   Beautiful Soupを使って与えられたHTML文字列をもとにオブジェクトを作成する。\n",
        "2.   タグを除去できるメソッドであるget_textを呼び出す。\n",
        "\n",
        "\n",
        "・celan_html関数：HTML文字列を与えるとタグを除去して返してくれる関数。\n",
        "\n"
      ]
    },
    {
      "cell_type": "code",
      "metadata": {
        "id": "mYQ98r4wHwbh"
      },
      "source": [
        "from bs4 import BeautifulSoup"
      ],
      "execution_count": null,
      "outputs": []
    },
    {
      "cell_type": "code",
      "metadata": {
        "id": "kneQqvpaH29p"
      },
      "source": [
        "def clean_html(html, strip=False):\n",
        "    soup = BeautifulSoup(html, 'html.parser')\n",
        "    text = soup.get_text(strip=strip)\n",
        "    return text"
      ],
      "execution_count": null,
      "outputs": []
    },
    {
      "cell_type": "code",
      "metadata": {
        "colab": {
          "base_uri": "https://localhost:8080/",
          "height": 35
        },
        "id": "A6uE1y8XIbZz",
        "outputId": "19f4e981-879d-4221-ef2d-51e7735555fd"
      },
      "source": [
        "clean_html(html)"
      ],
      "execution_count": null,
      "outputs": [
        {
          "output_type": "execute_result",
          "data": {
            "application/vnd.google.colaboratory.intrinsic+json": {
              "type": "string"
            },
            "text/plain": [
              "'\\n\\n\\n        これはExampleです。\\n      \\n'"
            ]
          },
          "metadata": {
            "tags": []
          },
          "execution_count": 4
        }
      ]
    },
    {
      "cell_type": "markdown",
      "metadata": {
        "id": "ovDkiXPUIiyL"
      },
      "source": [
        "celan_htmlのstrip引数にTrueを設定すれば、改行文字も削除できる。"
      ]
    },
    {
      "cell_type": "code",
      "metadata": {
        "colab": {
          "base_uri": "https://localhost:8080/",
          "height": 35
        },
        "id": "vVpQicmjJn1T",
        "outputId": "42402616-4960-4dec-8b60-8e16ca45e1cf"
      },
      "source": [
        "clean_html(html, strip=True)"
      ],
      "execution_count": null,
      "outputs": [
        {
          "output_type": "execute_result",
          "data": {
            "application/vnd.google.colaboratory.intrinsic+json": {
              "type": "string"
            },
            "text/plain": [
              "'これはExampleです。'"
            ]
          },
          "metadata": {
            "tags": []
          },
          "execution_count": 5
        }
      ]
    },
    {
      "cell_type": "markdown",
      "metadata": {
        "id": "q6BXKU-hJzO3"
      },
      "source": [
        "実際は、データに応じて除去したい内容が異なる。\n",
        "\n",
        "→ **正規表現** （Regular Expression）を用いてノイズを削除する。"
      ]
    },
    {
      "cell_type": "markdown",
      "metadata": {
        "id": "kW4Lydr3Kr2f"
      },
      "source": [
        "Pythonではreモジュールを用いる"
      ]
    },
    {
      "cell_type": "code",
      "metadata": {
        "id": "oBnitkpjL9rp"
      },
      "source": [
        "text = '今度からMkDocsでドキュメントを書こう。#Python'"
      ],
      "execution_count": null,
      "outputs": []
    },
    {
      "cell_type": "markdown",
      "metadata": {
        "id": "VX5YwH2nPWx2"
      },
      "source": [
        "How to do\n",
        "\n",
        "\n",
        "1.   ハッシュタグを除去できる正規表現のパターンについて仮説を立てる。\n",
        "\n",
        "    （今回はハッシュ記号に英語の小文字から大文字が1文字以上続く場合はハッシュタグであると言う仮説を立てる。）\n",
        "2.   正規表現を使ってパターンにマッチする部分を出する関数を定義する。\n",
        "\n",
        "    ・re.sub関数：マッチした部分を除去するための関数\n",
        "\n",
        "        * 第一引数で指定したパターンにマッチするテキストを、第二引数で指定した文字列で置き換える。\n",
        "        * 対象のテキストは第三引数に指定する。\n",
        "\n",
        "        （今回はパターンとして「ハッシュ記号の後に続く一文字以上の文字列」を指定し、マッチした部分を空文字''で置き換えている。）\n",
        "\n",
        "\n"
      ]
    },
    {
      "cell_type": "code",
      "metadata": {
        "id": "kVeLqaaIMKPo"
      },
      "source": [
        "import re"
      ],
      "execution_count": null,
      "outputs": []
    },
    {
      "cell_type": "code",
      "metadata": {
        "id": "g87vNlZyMSOI"
      },
      "source": [
        "def clean_hashtag(text):\n",
        "    cleaned_text = re.sub(r'#[a-zA-Z]+', '', text)\n",
        "    return cleaned_text"
      ],
      "execution_count": null,
      "outputs": []
    },
    {
      "cell_type": "markdown",
      "metadata": {
        "id": "9lJ7s5_SSAdZ"
      },
      "source": [
        "・re.sub関数の第一引数に指定している文字列のプレフィックスとしてrを指定していることに注意する。\n",
        "\n",
        "**生文字列**(raw string):rまたはRプレフィックスとして付加した文字列のこと。\n",
        "* この生文字列中では\\に特別な意味を持つない効果がある。\n",
        "\n",
        " →改行記号が含まれる文字列を生文字列として扱うと改行されなくなる。"
      ]
    },
    {
      "cell_type": "code",
      "metadata": {
        "colab": {
          "base_uri": "https://localhost:8080/"
        },
        "id": "zxxF9b2RMuEQ",
        "outputId": "295ab19d-ded1-4ff7-d53c-9c516be3d33d"
      },
      "source": [
        "print('He\\nllo')"
      ],
      "execution_count": null,
      "outputs": [
        {
          "output_type": "stream",
          "text": [
            "He\n",
            "llo\n"
          ],
          "name": "stdout"
        }
      ]
    },
    {
      "cell_type": "code",
      "metadata": {
        "colab": {
          "base_uri": "https://localhost:8080/"
        },
        "id": "rHyIe-AwM1d_",
        "outputId": "d86f2f45-c9f2-46fb-b11f-091f185cf66f"
      },
      "source": [
        "print(r'He\\nllo')"
      ],
      "execution_count": null,
      "outputs": [
        {
          "output_type": "stream",
          "text": [
            "He\\nllo\n"
          ],
          "name": "stdout"
        }
      ]
    },
    {
      "cell_type": "code",
      "metadata": {
        "colab": {
          "base_uri": "https://localhost:8080/",
          "height": 35
        },
        "id": "zK9CiScwM7ge",
        "outputId": "b881ca8b-3b98-4cca-a2e7-30a2e4c904cf"
      },
      "source": [
        "clean_hashtag(text)"
      ],
      "execution_count": null,
      "outputs": [
        {
          "output_type": "execute_result",
          "data": {
            "application/vnd.google.colaboratory.intrinsic+json": {
              "type": "string"
            },
            "text/plain": [
              "'今度からMkDocsでドキュメントを書こう。'"
            ]
          },
          "metadata": {
            "tags": []
          },
          "execution_count": 11
        }
      ]
    },
    {
      "cell_type": "markdown",
      "metadata": {
        "id": "zVVTcqT2S9uC"
      },
      "source": [
        "文中でハッシュタグを使っているテキストの場合"
      ]
    },
    {
      "cell_type": "code",
      "metadata": {
        "id": "k3r2lI05NKrA"
      },
      "source": [
        "text = '機械学習をやるなら #python がいいよね。 #jupyter'"
      ],
      "execution_count": null,
      "outputs": []
    },
    {
      "cell_type": "code",
      "metadata": {
        "colab": {
          "base_uri": "https://localhost:8080/",
          "height": 35
        },
        "id": "z9y_nz9xNXSY",
        "outputId": "70fb5bbf-2e03-4274-9e03-9b34baf0426b"
      },
      "source": [
        "clean_hashtag(text)"
      ],
      "execution_count": null,
      "outputs": [
        {
          "output_type": "execute_result",
          "data": {
            "application/vnd.google.colaboratory.intrinsic+json": {
              "type": "string"
            },
            "text/plain": [
              "'機械学習をやるなら  がいいよね。 '"
            ]
          },
          "metadata": {
            "tags": []
          },
          "execution_count": 13
        }
      ]
    },
    {
      "cell_type": "markdown",
      "metadata": {
        "id": "zYEgJXOgTIVg"
      },
      "source": [
        "・#を除去したことで文の意味がわからなくなってしまう。\n",
        "\n",
        "→文末のハッシュタグは除去するが、文中の場合はハッシュ記号だけを\n",
        "除去するといった\n",
        "仮説を立てて、関数を書き換える。"
      ]
    },
    {
      "cell_type": "code",
      "metadata": {
        "id": "vw_5wo5sNebO"
      },
      "source": [
        "def clean_hashtag(text):\n",
        "    cleaned_text = re.sub(r' #[a-zA-Z]+$', '', text)\n",
        "    cleaned_text = re.sub(r' #([a-zA-Z]+) ', r'\\1', cleaned_text)\n",
        "    return cleaned_text"
      ],
      "execution_count": null,
      "outputs": []
    },
    {
      "cell_type": "code",
      "metadata": {
        "colab": {
          "base_uri": "https://localhost:8080/",
          "height": 35
        },
        "id": "n4vddRKcNxfh",
        "outputId": "fc023606-ed52-4e49-90c0-82f5bbbda565"
      },
      "source": [
        "clean_hashtag(text)"
      ],
      "execution_count": null,
      "outputs": [
        {
          "output_type": "execute_result",
          "data": {
            "application/vnd.google.colaboratory.intrinsic+json": {
              "type": "string"
            },
            "text/plain": [
              "'機械学習をやるならpythonがいいよね。'"
            ]
          },
          "metadata": {
            "tags": []
          },
          "execution_count": 15
        }
      ]
    },
    {
      "cell_type": "markdown",
      "metadata": {
        "id": "C9_VSXQ7TqZJ"
      },
      "source": [
        "ハッシュタグがたくさんある場合"
      ]
    },
    {
      "cell_type": "code",
      "metadata": {
        "id": "ylypOklrN34l"
      },
      "source": [
        "text = ' 機械学習をやるなら #python がいいよね。  #jupyter #pycon #scipy'"
      ],
      "execution_count": null,
      "outputs": []
    },
    {
      "cell_type": "code",
      "metadata": {
        "colab": {
          "base_uri": "https://localhost:8080/",
          "height": 35
        },
        "id": "Eu_ZNdVON_bD",
        "outputId": "7c78ec45-88ed-4f1e-8b0c-95c21543a359"
      },
      "source": [
        "clean_hashtag(text)"
      ],
      "execution_count": null,
      "outputs": [
        {
          "output_type": "execute_result",
          "data": {
            "application/vnd.google.colaboratory.intrinsic+json": {
              "type": "string"
            },
            "text/plain": [
              "' 機械学習をやるならpythonがいいよね。 jupyter#pycon'"
            ]
          },
          "metadata": {
            "tags": []
          },
          "execution_count": 17
        }
      ]
    },
    {
      "cell_type": "markdown",
      "metadata": {
        "id": "7zefYMt9T0y_"
      },
      "source": [
        "ハッシュタグが連続する場合は考慮できていないので、さらに書き換える。"
      ]
    },
    {
      "cell_type": "code",
      "metadata": {
        "id": "M8N-mR0oOQ23"
      },
      "source": [
        "def clean_hashtag(text):\n",
        "    cleaned_text = re.sub(r'( #[a-zA-Z]+)+$', ' ', text)\n",
        "    cleaned_text = re.sub(r' #([a-zA-Z]+) ', r'\\1', cleaned_text)\n",
        "    return cleaned_text"
      ],
      "execution_count": null,
      "outputs": []
    },
    {
      "cell_type": "code",
      "metadata": {
        "colab": {
          "base_uri": "https://localhost:8080/",
          "height": 35
        },
        "id": "mdbPHpQrOiMj",
        "outputId": "4e1cb754-e1e9-4971-a5ae-f77898a08688"
      },
      "source": [
        "clean_hashtag(text)"
      ],
      "execution_count": null,
      "outputs": [
        {
          "output_type": "execute_result",
          "data": {
            "application/vnd.google.colaboratory.intrinsic+json": {
              "type": "string"
            },
            "text/plain": [
              "' 機械学習をやるならpythonがいいよね。  '"
            ]
          },
          "metadata": {
            "tags": []
          },
          "execution_count": 26
        }
      ]
    }
  ]
}