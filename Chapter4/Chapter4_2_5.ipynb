{
  "nbformat": 4,
  "nbformat_minor": 0,
  "metadata": {
    "colab": {
      "name": "Chapter4_2_5.ipynb",
      "provenance": [],
      "collapsed_sections": [],
      "authorship_tag": "ABX9TyOCKD3IEQe9oVpEMpq9t9ff",
      "include_colab_link": true
    },
    "kernelspec": {
      "name": "python3",
      "display_name": "Python 3"
    },
    "language_info": {
      "name": "python"
    }
  },
  "cells": [
    {
      "cell_type": "markdown",
      "metadata": {
        "id": "view-in-github",
        "colab_type": "text"
      },
      "source": [
        "<a href=\"https://colab.research.google.com/github/Momo227/nlp_practice/blob/Chapter4/Chapter4/Chapter4_2_5.ipynb\" target=\"_parent\"><img src=\"https://colab.research.google.com/assets/colab-badge.svg\" alt=\"Open In Colab\"/></a>"
      ]
    },
    {
      "cell_type": "code",
      "metadata": {
        "id": "XL1uFtzY7yCy"
      },
      "source": [
        "with open('ja.text8', 'r', encoding='utf-8') as f:\n",
        "    text = f.read()\n",
        "    words = text.split()"
      ],
      "execution_count": null,
      "outputs": []
    },
    {
      "cell_type": "code",
      "metadata": {
        "id": "hDk8C5al9ihQ",
        "colab": {
          "base_uri": "https://localhost:8080/"
        },
        "outputId": "758bb677-7b54-4739-d43b-6e7d238c80fb"
      },
      "source": [
        "from collections import Counter\n",
        "Counter(['cat', 'dog', 'cat'])"
      ],
      "execution_count": 3,
      "outputs": [
        {
          "output_type": "execute_result",
          "data": {
            "text/plain": [
              "Counter({'cat': 2, 'dog': 1})"
            ]
          },
          "metadata": {
            "tags": []
          },
          "execution_count": 3
        }
      ]
    },
    {
      "cell_type": "code",
      "metadata": {
        "id": "VXRyPCHJ9m4i",
        "colab": {
          "base_uri": "https://localhost:8080/"
        },
        "outputId": "26858e9c-7521-4e29-b659-b217b49a4f7c"
      },
      "source": [
        "fdist = Counter(words)\n",
        "fdist.most_common(n=10)"
      ],
      "execution_count": 4,
      "outputs": [
        {
          "output_type": "execute_result",
          "data": {
            "text/plain": [
              "[('の', 43428),\n",
              " ('、', 41457),\n",
              " ('。', 28171),\n",
              " ('に', 27226),\n",
              " ('は', 25534),\n",
              " ('を', 22350),\n",
              " ('た', 21351),\n",
              " ('が', 18339),\n",
              " ('で', 18273),\n",
              " ('て', 13702)]"
            ]
          },
          "metadata": {
            "tags": []
          },
          "execution_count": 4
        }
      ]
    },
    {
      "cell_type": "markdown",
      "metadata": {
        "id": "hm4MddBl78vF"
      },
      "source": [
        "**単語のID化**：各単語にIDを割り振り、単語をIDに置き換える処理のこと。\n",
        "\n",
        "* 辞書はボキャブラリとも呼ばれる。\n",
        "\n",
        "行う理由\n",
        "* ほとんどすべての機械学習アルゴリズムは入力として数字を想定しているため。\n",
        "* データの容量を圧縮することができるため"
      ]
    },
    {
      "cell_type": "code",
      "metadata": {
        "id": "_KEoamOO77v3"
      },
      "source": [
        "UNK = '<UNK>'\n",
        "PAD = '<PAD>'\n",
        "vocab = {PAD: 0, UNK: 1}\n",
        "for word, _ in fdist.most_common():\n",
        "    vocab[word] = len(vocab)"
      ],
      "execution_count": 6,
      "outputs": []
    },
    {
      "cell_type": "markdown",
      "metadata": {
        "id": "GRSvWUFk-ehf"
      },
      "source": [
        "* ＜UNK＞ ：未知語を表す文字列\n",
        "* ＜PAD＞：パディングを表す文字列"
      ]
    },
    {
      "cell_type": "code",
      "metadata": {
        "colab": {
          "base_uri": "https://localhost:8080/"
        },
        "id": "IPWrtWGu96zr",
        "outputId": "49e617b1-5026-4223-8784-e3c3a41f3d60"
      },
      "source": [
        "words = ['私', 'は', '元気']\n",
        "word_ids = [vocab.get(w, vocab[UNK]) for w in words]\n",
        "print(word_ids)"
      ],
      "execution_count": 7,
      "outputs": [
        {
          "output_type": "stream",
          "text": [
            "[1361, 6, 9485]\n"
          ],
          "name": "stdout"
        }
      ]
    }
  ]
}