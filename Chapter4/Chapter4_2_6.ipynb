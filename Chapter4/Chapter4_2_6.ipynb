{
  "nbformat": 4,
  "nbformat_minor": 0,
  "metadata": {
    "colab": {
      "name": "Chapter4_2_6.ipynb",
      "provenance": [],
      "authorship_tag": "ABX9TyNF2V3iSdRc+Mdu6TgG9Lfv",
      "include_colab_link": true
    },
    "kernelspec": {
      "name": "python3",
      "display_name": "Python 3"
    },
    "language_info": {
      "name": "python"
    }
  },
  "cells": [
    {
      "cell_type": "markdown",
      "metadata": {
        "id": "view-in-github",
        "colab_type": "text"
      },
      "source": [
        "<a href=\"https://colab.research.google.com/github/Momo227/nlp_practice/blob/Chapter4/Chapter4/Chapter4_2_6.ipynb\" target=\"_parent\"><img src=\"https://colab.research.google.com/assets/colab-badge.svg\" alt=\"Open In Colab\"/></a>"
      ]
    },
    {
      "cell_type": "markdown",
      "metadata": {
        "id": "5WBCt2gHBPDe"
      },
      "source": [
        "**パディング（padding）**：入力にデータを加えて系列長を合わせる処理のこと。\n",
        "\n",
        "系列長：データの長さのこと\n",
        "\n",
        "行う理由\n",
        "* 機械学習フレームワークの使用が関係\n",
        "→入力形状として等しい系列長が求められることが"
      ]
    },
    {
      "cell_type": "markdown",
      "metadata": {
        "id": "tEFULuG-VKqL"
      },
      "source": [
        "実際にID化された単語に対してパディングをしてみる。\n",
        "* Kerasの組み込み関数であるpad_sequencesを用いる。\n",
        "* pad_sequences：入力に単語IDの系列を与えると、系列長を合わせるように行う。\n",
        "* 系列以外の引数を指定しない場合、前詰めで0をパディングする。"
      ]
    },
    {
      "cell_type": "code",
      "metadata": {
        "colab": {
          "base_uri": "https://localhost:8080/"
        },
        "id": "I-yvLij_71mJ",
        "outputId": "b2a0f4db-6722-417f-8a5a-226e8c4c03c3"
      },
      "source": [
        "from tensorflow.keras.preprocessing.sequence import pad_sequences\n",
        "sequences = [[1, 2], [3, 4, 5], [6, 7, 8, 9]]\n",
        "pad_sequences(sequences)"
      ],
      "execution_count": 1,
      "outputs": [
        {
          "output_type": "execute_result",
          "data": {
            "text/plain": [
              "array([[0, 0, 1, 2],\n",
              "       [0, 3, 4, 5],\n",
              "       [6, 7, 8, 9]], dtype=int32)"
            ]
          },
          "metadata": {
            "tags": []
          },
          "execution_count": 1
        }
      ]
    },
    {
      "cell_type": "markdown",
      "metadata": {
        "id": "JQnUIBecV7b5"
      },
      "source": [
        "後詰めでパディングを行う場合はpadding='post'を指定する。"
      ]
    },
    {
      "cell_type": "code",
      "metadata": {
        "colab": {
          "base_uri": "https://localhost:8080/"
        },
        "id": "6gqf6xRtC8BC",
        "outputId": "e50124c9-f320-4c0f-d1f6-789129b1336f"
      },
      "source": [
        "pad_sequences(sequences, padding='post')"
      ],
      "execution_count": 2,
      "outputs": [
        {
          "output_type": "execute_result",
          "data": {
            "text/plain": [
              "array([[1, 2, 0, 0],\n",
              "       [3, 4, 5, 0],\n",
              "       [6, 7, 8, 9]], dtype=int32)"
            ]
          },
          "metadata": {
            "tags": []
          },
          "execution_count": 2
        }
      ]
    },
    {
      "cell_type": "markdown",
      "metadata": {
        "id": "XlaMbigWWGV0"
      },
      "source": [
        "系列長を指定することで、指定した長さに系列を切り詰める。"
      ]
    },
    {
      "cell_type": "code",
      "metadata": {
        "colab": {
          "base_uri": "https://localhost:8080/"
        },
        "id": "GdavIruYDgrq",
        "outputId": "2e2165d0-a3c7-46e5-ad9f-c9428530c990"
      },
      "source": [
        "pad_sequences(sequences, maxlen=3)"
      ],
      "execution_count": 3,
      "outputs": [
        {
          "output_type": "execute_result",
          "data": {
            "text/plain": [
              "array([[0, 1, 2],\n",
              "       [3, 4, 5],\n",
              "       [7, 8, 9]], dtype=int32)"
            ]
          },
          "metadata": {
            "tags": []
          },
          "execution_count": 3
        }
      ]
    },
    {
      "cell_type": "markdown",
      "metadata": {
        "id": "5Fum8xQ2WP5_"
      },
      "source": [
        "truncating='post'を指定することで、後ろから切り詰める。"
      ]
    },
    {
      "cell_type": "code",
      "metadata": {
        "colab": {
          "base_uri": "https://localhost:8080/"
        },
        "id": "_BS5-rFeD45p",
        "outputId": "4bc28292-70e6-4229-80c5-ac2eca56ac25"
      },
      "source": [
        "pad_sequences(sequences, maxlen=3, truncating='post')"
      ],
      "execution_count": 4,
      "outputs": [
        {
          "output_type": "execute_result",
          "data": {
            "text/plain": [
              "array([[0, 1, 2],\n",
              "       [3, 4, 5],\n",
              "       [6, 7, 8]], dtype=int32)"
            ]
          },
          "metadata": {
            "tags": []
          },
          "execution_count": 4
        }
      ]
    },
    {
      "cell_type": "markdown",
      "metadata": {
        "id": "TmWIyHsSWPyM"
      },
      "source": [
        "デフォルトでは0でパディングを行うが、value引数に値を指定することで、パディングに使う値を指定することが可能。"
      ]
    },
    {
      "cell_type": "code",
      "metadata": {
        "colab": {
          "base_uri": "https://localhost:8080/"
        },
        "id": "vtGP20VDE5Dw",
        "outputId": "18cf0b72-7c75-453d-9c13-23a81abb61f6"
      },
      "source": [
        "pad_sequences(sequences, value=10)"
      ],
      "execution_count": 5,
      "outputs": [
        {
          "output_type": "execute_result",
          "data": {
            "text/plain": [
              "array([[10, 10,  1,  2],\n",
              "       [10,  3,  4,  5],\n",
              "       [ 6,  7,  8,  9]], dtype=int32)"
            ]
          },
          "metadata": {
            "tags": []
          },
          "execution_count": 5
        }
      ]
    }
  ]
}