{
  "nbformat": 4,
  "nbformat_minor": 0,
  "metadata": {
    "colab": {
      "name": "Chapter3-1.ipynb",
      "provenance": [],
      "collapsed_sections": [],
      "toc_visible": true,
      "authorship_tag": "ABX9TyNAuLGKrLsoCRYoBuslvBuz",
      "include_colab_link": true
    },
    "kernelspec": {
      "name": "python3",
      "display_name": "Python 3"
    },
    "language_info": {
      "name": "python"
    }
  },
  "cells": [
    {
      "cell_type": "markdown",
      "metadata": {
        "id": "view-in-github",
        "colab_type": "text"
      },
      "source": [
        "<a href=\"https://colab.research.google.com/github/Momo227/nlp_practice/blob/Chapter3/Chapter3_3_1.ipynb\" target=\"_parent\"><img src=\"https://colab.research.google.com/assets/colab-badge.svg\" alt=\"Open In Colab\"/></a>"
      ]
    },
    {
      "cell_type": "markdown",
      "metadata": {
        "id": "WxMJFUx4hh8V"
      },
      "source": [
        "# Chapter3  コーパス\n"
      ]
    },
    {
      "cell_type": "markdown",
      "metadata": {
        "id": "i2iDtL2vh-OA"
      },
      "source": [
        "＃データの読み込み\n"
      ]
    },
    {
      "cell_type": "markdown",
      "metadata": {
        "id": "IchPgeLkBk7Q"
      },
      "source": [
        "Pythonではファイルの読み書きにopen関数を使う。\n",
        "\n",
        "open関数は、引数として、\n",
        "*   ファイル名\n",
        "*   モード\n",
        "*   ファイルエンコーディング\n",
        "\n",
        "を指定してファイルを開く。\n",
        "\n",
        "open関数を呼び出すと、ファイルを操作するためのオブジェクトを返してくる。"
      ]
    },
    {
      "cell_type": "code",
      "metadata": {
        "colab": {
          "base_uri": "https://localhost:8080/"
        },
        "id": "oNxarM_sAQ3v",
        "outputId": "11bd74dc-2426-4b87-a3db-3977bc1278a6"
      },
      "source": [
        "f =  open('sample.txt', 'r', encoding='utf-8')\n",
        "f"
      ],
      "execution_count": 24,
      "outputs": [
        {
          "output_type": "execute_result",
          "data": {
            "text/plain": [
              "<_io.TextIOWrapper name='sample.txt' mode='r' encoding='utf-8'>"
            ]
          },
          "metadata": {
            "tags": []
          },
          "execution_count": 24
        }
      ]
    },
    {
      "cell_type": "markdown",
      "metadata": {
        "id": "N18Bo2sAC5Wv"
      },
      "source": [
        "引数について\n",
        "\n",
        "・ファイル名：ファイル名を表す文字列"
      ]
    },
    {
      "cell_type": "markdown",
      "metadata": {
        "id": "JEAzhT14KGtK"
      },
      "source": [
        "・モード：ファイルの使用方法\n",
        "\n",
        "ファイルオブジェクト\n",
        "\n",
        "・read:ファイルの読み込み\n",
        "* ファイルの中身全体を読み込み、返り値として返す。\n",
        "* 一度呼び出すと、次に呼んだ時に空文字列を返す。\n",
        "* ファイルを使い終わったらを呼び出して閉じる。\n",
        "\n",
        "・write：ファイルの書き込み\n",
        "\n",
        "・add：追記"
      ]
    },
    {
      "cell_type": "code",
      "metadata": {
        "colab": {
          "base_uri": "https://localhost:8080/",
          "height": 35
        },
        "id": "Au4_p-zPBZ04",
        "outputId": "d2d05cc9-ae45-44c1-89c8-adc7f043be77"
      },
      "source": [
        "f.read()"
      ],
      "execution_count": 25,
      "outputs": [
        {
          "output_type": "execute_result",
          "data": {
            "application/vnd.google.colaboratory.intrinsic+json": {
              "type": "string"
            },
            "text/plain": [
              "'こんにちは。\\nファイル読み込み練習中。\\nAwesome!'"
            ]
          },
          "metadata": {
            "tags": []
          },
          "execution_count": 25
        }
      ]
    },
    {
      "cell_type": "code",
      "metadata": {
        "colab": {
          "base_uri": "https://localhost:8080/",
          "height": 35
        },
        "id": "aQwwV7MaK5cA",
        "outputId": "ad023804-9d3b-4b32-bbf4-851e8bbffcb9"
      },
      "source": [
        "f.read()\n"
      ],
      "execution_count": 26,
      "outputs": [
        {
          "output_type": "execute_result",
          "data": {
            "application/vnd.google.colaboratory.intrinsic+json": {
              "type": "string"
            },
            "text/plain": [
              "''"
            ]
          },
          "metadata": {
            "tags": []
          },
          "execution_count": 26
        }
      ]
    },
    {
      "cell_type": "code",
      "metadata": {
        "id": "0C_ODa-aK6a1"
      },
      "source": [
        "f.close()"
      ],
      "execution_count": 27,
      "outputs": []
    },
    {
      "cell_type": "markdown",
      "metadata": {
        "id": "2E47yNWHLHAo"
      },
      "source": [
        "ファイルを1行ずつ読みたいとき\n",
        "\n",
        "・readlineメソッドを使う。"
      ]
    },
    {
      "cell_type": "code",
      "metadata": {
        "id": "i9K1u3HfhCxr"
      },
      "source": [
        "f = open('sample.txt', 'r', encoding='utf-8')"
      ],
      "execution_count": 49,
      "outputs": []
    },
    {
      "cell_type": "code",
      "metadata": {
        "colab": {
          "base_uri": "https://localhost:8080/",
          "height": 35
        },
        "id": "B33IeGRknkKG",
        "outputId": "efeea75a-2414-4645-f9cc-3a588709e49d"
      },
      "source": [
        "f.readline()"
      ],
      "execution_count": 50,
      "outputs": [
        {
          "output_type": "execute_result",
          "data": {
            "application/vnd.google.colaboratory.intrinsic+json": {
              "type": "string"
            },
            "text/plain": [
              "'こんにちは。\\n'"
            ]
          },
          "metadata": {
            "tags": []
          },
          "execution_count": 50
        }
      ]
    },
    {
      "cell_type": "code",
      "metadata": {
        "colab": {
          "base_uri": "https://localhost:8080/",
          "height": 35
        },
        "id": "T3ejZ2O9oAtm",
        "outputId": "5a3653e0-f9a4-4170-cb9c-6cd025c3c9a6"
      },
      "source": [
        "f.readline()\n"
      ],
      "execution_count": 51,
      "outputs": [
        {
          "output_type": "execute_result",
          "data": {
            "application/vnd.google.colaboratory.intrinsic+json": {
              "type": "string"
            },
            "text/plain": [
              "'ファイル読み込み練習中。\\n'"
            ]
          },
          "metadata": {
            "tags": []
          },
          "execution_count": 51
        }
      ]
    },
    {
      "cell_type": "code",
      "metadata": {
        "colab": {
          "base_uri": "https://localhost:8080/",
          "height": 35
        },
        "id": "YcfsJZk4oCKc",
        "outputId": "556564a7-b89f-463d-b1d7-4da9b0462069"
      },
      "source": [
        "f.readline()\n"
      ],
      "execution_count": 52,
      "outputs": [
        {
          "output_type": "execute_result",
          "data": {
            "application/vnd.google.colaboratory.intrinsic+json": {
              "type": "string"
            },
            "text/plain": [
              "'Awesome!'"
            ]
          },
          "metadata": {
            "tags": []
          },
          "execution_count": 52
        }
      ]
    },
    {
      "cell_type": "code",
      "metadata": {
        "colab": {
          "base_uri": "https://localhost:8080/",
          "height": 35
        },
        "id": "1REf9zmwoH7-",
        "outputId": "c731e06d-978b-4467-9782-f761fbac0aa9"
      },
      "source": [
        "f.readline()\n"
      ],
      "execution_count": 53,
      "outputs": [
        {
          "output_type": "execute_result",
          "data": {
            "application/vnd.google.colaboratory.intrinsic+json": {
              "type": "string"
            },
            "text/plain": [
              "''"
            ]
          },
          "metadata": {
            "tags": []
          },
          "execution_count": 53
        }
      ]
    },
    {
      "cell_type": "code",
      "metadata": {
        "id": "5f9eOg0uoM54"
      },
      "source": [
        "f.close()"
      ],
      "execution_count": 54,
      "outputs": []
    },
    {
      "cell_type": "markdown",
      "metadata": {
        "id": "5ioBK_dRt0gr"
      },
      "source": [
        "ファイルから1行ずつ複数行読みたいとき\n",
        "\n",
        "・ファイルオブジェクトをfor文で回す。"
      ]
    },
    {
      "cell_type": "code",
      "metadata": {
        "id": "TibH2zbhoXEQ"
      },
      "source": [
        "f = open('sample.txt', 'r', encoding='utf-8')"
      ],
      "execution_count": 55,
      "outputs": []
    },
    {
      "cell_type": "code",
      "metadata": {
        "colab": {
          "base_uri": "https://localhost:8080/"
        },
        "id": "1fBqC8Xloea8",
        "outputId": "d95efbe3-e5ae-4c52-948e-a003ab02e3eb"
      },
      "source": [
        "for line in f:\n",
        "    print(line, end=' ')"
      ],
      "execution_count": 56,
      "outputs": [
        {
          "output_type": "stream",
          "text": [
            "こんにちは。\n",
            " ファイル読み込み練習中。\n",
            " Awesome! "
          ],
          "name": "stdout"
        }
      ]
    },
    {
      "cell_type": "code",
      "metadata": {
        "id": "tRsiojZZorAO"
      },
      "source": [
        "f.close()"
      ],
      "execution_count": null,
      "outputs": []
    },
    {
      "cell_type": "markdown",
      "metadata": {
        "id": "4655zLXrqHui"
      },
      "source": [
        "with：ファイルを読み込み終わった後にファイルを自動で閉じる。→明示的にcloseメゾットを呼び出す必要がなくなる。"
      ]
    },
    {
      "cell_type": "code",
      "metadata": {
        "id": "7rkoeU8Ary1y"
      },
      "source": [
        "with open('sample.txt', 'r', encoding='utf-8') as f:\n",
        "  text = f.read()"
      ],
      "execution_count": 58,
      "outputs": []
    },
    {
      "cell_type": "code",
      "metadata": {
        "colab": {
          "base_uri": "https://localhost:8080/",
          "height": 35
        },
        "id": "mNJd-yaHsXRV",
        "outputId": "67f0fb94-9f19-4cf8-a07c-ec139b36d829"
      },
      "source": [
        "text"
      ],
      "execution_count": 59,
      "outputs": [
        {
          "output_type": "execute_result",
          "data": {
            "application/vnd.google.colaboratory.intrinsic+json": {
              "type": "string"
            },
            "text/plain": [
              "'こんにちは。\\nファイル読み込み練習中。\\nAwesome!'"
            ]
          },
          "metadata": {
            "tags": []
          },
          "execution_count": 59
        }
      ]
    },
    {
      "cell_type": "markdown",
      "metadata": {
        "id": "AsocZBDFsZxa"
      },
      "source": [
        "write : ファイルに書き込みを行う。\n",
        "\n",
        "引数\n",
        "\n",
        "* 文字列"
      ]
    },
    {
      "cell_type": "code",
      "metadata": {
        "id": "K1yWLuxQso97"
      },
      "source": [
        "with open('contents.txt', 'w', encoding='utf-8') as f:\n",
        "  f.write('Hello write method!')"
      ],
      "execution_count": 64,
      "outputs": []
    }
  ]
}
