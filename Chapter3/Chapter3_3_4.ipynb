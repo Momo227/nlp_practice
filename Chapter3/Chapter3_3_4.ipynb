{
  "nbformat": 4,
  "nbformat_minor": 0,
  "metadata": {
    "colab": {
      "name": "Chapter3-3-4",
      "provenance": [],
      "authorship_tag": "ABX9TyOd4QdVJAY5md6PAnvKqOPL",
      "include_colab_link": true
    },
    "kernelspec": {
      "name": "python3",
      "display_name": "Python 3"
    },
    "language_info": {
      "name": "python"
    }
  },
  "cells": [
    {
      "cell_type": "markdown",
      "metadata": {
        "id": "view-in-github",
        "colab_type": "text"
      },
      "source": [
        "<a href=\"https://colab.research.google.com/github/Momo227/nlp_practice/blob/Chapter3/Chapter3_3_4.ipynb\" target=\"_parent\"><img src=\"https://colab.research.google.com/assets/colab-badge.svg\" alt=\"Open In Colab\"/></a>"
      ]
    },
    {
      "cell_type": "markdown",
      "metadata": {
        "id": "ScX-ag-a7Le-"
      },
      "source": [
        "**ディレクトリの走査**：ディレクトリ内の大量のファイルを一気に読み込みたい時に、ファイルの一覧を取得する方法。\n",
        "\n",
        "取得できるモジュール\n",
        "* pathlib  (簡単)\n",
        "* os\n",
        "* glob"
      ]
    },
    {
      "cell_type": "markdown",
      "metadata": {
        "id": "Fj9hy1Dc9OUR"
      },
      "source": [
        "・pathlib : ディレクトリを指定してPathオブジェクトを作成し、ファイル名の条件を指定して取得する。\n"
      ]
    },
    {
      "cell_type": "code",
      "metadata": {
        "colab": {
          "base_uri": "https://localhost:8080/"
        },
        "id": "nV8NFJxq7HHQ",
        "outputId": "0052e6a6-b376-4945-d803-eed0a6b8cd82"
      },
      "source": [
        "from pathlib import Path\n",
        "p=Path('dir1')\n",
        "list(p.glob('*'))"
      ],
      "execution_count": 3,
      "outputs": [
        {
          "output_type": "execute_result",
          "data": {
            "text/plain": [
              "[]"
            ]
          },
          "metadata": {
            "tags": []
          },
          "execution_count": 3
        }
      ]
    },
    {
      "cell_type": "markdown",
      "metadata": {
        "id": "nUyQe8i--UXy"
      },
      "source": [
        "* Pathオブジェクトのglobメソッドにファイル名のパターンを指定することでファイルの一覧を取得できる。\n",
        "* アスタリスクを指定するとすべてのファイルを取得する。\n",
        "  * windowsPath:Windowsにおけるファイルシステムのパスを表すクラス\n",
        "  * PosixPath:非Windowsにおけるパス"
      ]
    },
    {
      "cell_type": "markdown",
      "metadata": {
        "id": "IWtWf9uE_Vk6"
      },
      "source": [
        "・直下のテキストファイルだけを取得したい場合\n",
        "\n",
        "　　→globメソッドにテキストファイルのパターンを指定することで取得可能。"
      ]
    },
    {
      "cell_type": "code",
      "metadata": {
        "colab": {
          "base_uri": "https://localhost:8080/"
        },
        "id": "Ip4j2w4o_VTZ",
        "outputId": "03a27802-f4d7-48cb-e78c-0d32ddee0716"
      },
      "source": [
        "list(p.glob('*.txt'))"
      ],
      "execution_count": 4,
      "outputs": [
        {
          "output_type": "execute_result",
          "data": {
            "text/plain": [
              "[]"
            ]
          },
          "metadata": {
            "tags": []
          },
          "execution_count": 4
        }
      ]
    },
    {
      "cell_type": "markdown",
      "metadata": {
        "id": "sZ5CvNxu_VhT"
      },
      "source": [
        "・さらに下位のディレクトリのテキストファイルを取得したい場合\n",
        "\n",
        "　　→ディレクトリを再帰的に検索すれば良い（globメソッドに**パターンを指定する。）"
      ]
    },
    {
      "cell_type": "code",
      "metadata": {
        "colab": {
          "base_uri": "https://localhost:8080/"
        },
        "id": "Lqaf_9ojAhhX",
        "outputId": "001c048a-0a55-4e11-890b-5c34699e7283"
      },
      "source": [
        "list(p.glob('**/*.txt'))"
      ],
      "execution_count": 5,
      "outputs": [
        {
          "output_type": "execute_result",
          "data": {
            "text/plain": [
              "[]"
            ]
          },
          "metadata": {
            "tags": []
          },
          "execution_count": 5
        }
      ]
    },
    {
      "cell_type": "markdown",
      "metadata": {
        "id": "E6LRF2PkAqMr"
      },
      "source": [
        "得られたファイル一覧をopenやread_csvで読み込めば使用可能。"
      ]
    }
  ]
}
