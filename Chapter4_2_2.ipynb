{
  "nbformat": 4,
  "nbformat_minor": 0,
  "metadata": {
    "colab": {
      "name": "Chapter4_2_2.ipynb",
      "provenance": [],
      "authorship_tag": "ABX9TyM2ocjkczc3KLwk6zS3WKIA",
      "include_colab_link": true
    },
    "kernelspec": {
      "name": "python3",
      "display_name": "Python 3"
    },
    "language_info": {
      "name": "python"
    }
  },
  "cells": [
    {
      "cell_type": "markdown",
      "metadata": {
        "id": "view-in-github",
        "colab_type": "text"
      },
      "source": [
        "<a href=\"https://colab.research.google.com/github/Momo227/nlp_practice/blob/Chapter4/Chapter4_2_2.ipynb\" target=\"_parent\"><img src=\"https://colab.research.google.com/assets/colab-badge.svg\" alt=\"Open In Colab\"/></a>"
      ]
    },
    {
      "cell_type": "markdown",
      "metadata": {
        "id": "boY4m-r6dyI_"
      },
      "source": [
        "**単語分割**：テキストを単語に分割する処理\n",
        "* 自然言語をする際によく使われる→入力を単語レベルで扱うから\n",
        "* 形態素解解析器を用いて行う\n",
        "* 語彙数を減らすために単語を原型にすることもある"
      ]
    },
    {
      "cell_type": "markdown",
      "metadata": {
        "id": "EoqBbY5geWQo"
      },
      "source": [
        "形態素解析する際の問題点\n",
        "\n",
        "・デフォルトでは新語の解析に強くない（特にWebには新語が多数含まれているのでかなり深刻となる。）\n",
        "    \n",
        "   →形態素解析器に辞書を追加することである程度解決できる\n",
        "\n",
        "辞書の例：NEologd\n"
      ]
    },
    {
      "cell_type": "markdown",
      "metadata": {
        "id": "-oJi7yGqprqG"
      },
      "source": [
        "Pythonから使える主な形態素解析器\n",
        "\n",
        "* MeCab\n",
        "* Juman++\n",
        "* Janome"
      ]
    },
    {
      "cell_type": "markdown",
      "metadata": {
        "id": "ujpIkNS4qCMb"
      },
      "source": [
        "今回は\n",
        "* 形態素解析器 : Janome\n",
        "* クラス：Tokenizer\n",
        "* メソッド：tokenize\n",
        "\n",
        "で行う。"
      ]
    },
    {
      "cell_type": "code",
      "metadata": {
        "colab": {
          "base_uri": "https://localhost:8080/"
        },
        "id": "jpldSlHCrDdt",
        "outputId": "8be5959d-e31f-45e6-cd01-7922185a9fc7"
      },
      "source": [
        "pip install janome"
      ],
      "execution_count": 22,
      "outputs": [
        {
          "output_type": "stream",
          "text": [
            "Requirement already satisfied: janome in /usr/local/lib/python3.7/dist-packages (0.4.1)\n"
          ],
          "name": "stdout"
        }
      ]
    },
    {
      "cell_type": "code",
      "metadata": {
        "id": "_fgzbUG3dslK"
      },
      "source": [
        "from janome.tokenizer import Tokenizer"
      ],
      "execution_count": 29,
      "outputs": []
    },
    {
      "cell_type": "code",
      "metadata": {
        "id": "y-3OQELqqnL1"
      },
      "source": [
        "text = '彼女と国立新美術館へ行った。'"
      ],
      "execution_count": 30,
      "outputs": []
    },
    {
      "cell_type": "code",
      "metadata": {
        "id": "l4OcaZNyrP3X"
      },
      "source": [
        "t = Tokenizer()"
      ],
      "execution_count": 34,
      "outputs": []
    },
    {
      "cell_type": "code",
      "metadata": {
        "colab": {
          "base_uri": "https://localhost:8080/"
        },
        "id": "YzytzJlYrViG",
        "outputId": "b7b077b5-e90b-4cc0-ddac-92eec2260bd0"
      },
      "source": [
        "for token in t.tokenize(text):\n",
        "    print(token)"
      ],
      "execution_count": 35,
      "outputs": [
        {
          "output_type": "stream",
          "text": [
            "彼女\t名詞,代名詞,一般,*,*,*,彼女,カノジョ,カノジョ\n",
            "と\t助詞,格助詞,一般,*,*,*,と,ト,ト\n",
            "国立\t名詞,一般,*,*,*,*,国立,コクリツ,コクリツ\n",
            "新\t接頭詞,名詞接続,*,*,*,*,新,シン,シン\n",
            "美術館\t名詞,一般,*,*,*,*,美術館,ビジュツカン,ビジュツカン\n",
            "へ\t助詞,格助詞,一般,*,*,*,へ,ヘ,エ\n",
            "行っ\t動詞,自立,*,*,五段・カ行促音便,連用タ接続,行く,イッ,イッ\n",
            "た\t助動詞,*,*,*,特殊・タ,基本形,た,タ,タ\n",
            "。\t記号,句点,*,*,*,*,。,。,。\n"
          ],
          "name": "stdout"
        }
      ]
    },
    {
      "cell_type": "markdown",
      "metadata": {
        "id": "ZQGDn-8-xakk"
      },
      "source": [
        "**解析結果**\n",
        "\n",
        "左から\n",
        "* 表層形\n",
        "* 品詞\n",
        "* 品詞細分類1\n",
        "* 品詞細分類2\n",
        "* 品詞細分類3\n",
        "* 活用形\n",
        "* 活用型\n",
        "* 原形\n",
        "* 読み\n",
        "* 発音"
      ]
    },
    {
      "cell_type": "markdown",
      "metadata": {
        "id": "w8u5eF71yGgY"
      },
      "source": [
        "Toenizerにwakati=Trueと設定すれば、単語のリストのみを得ることができる。"
      ]
    },
    {
      "cell_type": "code",
      "metadata": {
        "id": "8UhB6VFZyShB"
      },
      "source": [
        "t = Tokenizer(wakati=True)"
      ],
      "execution_count": 38,
      "outputs": []
    },
    {
      "cell_type": "code",
      "metadata": {
        "colab": {
          "base_uri": "https://localhost:8080/"
        },
        "id": "Mb5acXT6yX5h",
        "outputId": "7b546ee7-e99d-4e3d-fdba-4ce87ef0f3b1"
      },
      "source": [
        "t.tokenize(text)"
      ],
      "execution_count": 51,
      "outputs": [
        {
          "output_type": "execute_result",
          "data": {
            "text/plain": [
              "<generator object Tokenizer.__tokenize_stream at 0x7f3aada7acd0>"
            ]
          },
          "metadata": {
            "tags": []
          },
          "execution_count": 51
        }
      ]
    },
    {
      "cell_type": "code",
      "metadata": {
        "colab": {
          "base_uri": "https://localhost:8080/"
        },
        "id": "Ir6i5mms7B4G",
        "outputId": "aeee5322-b1f3-460f-e9a4-6c582a4a8305"
      },
      "source": [
        "pip list | grep Janome"
      ],
      "execution_count": 52,
      "outputs": [
        {
          "output_type": "stream",
          "text": [
            "Janome                        0.4.1         \n"
          ],
          "name": "stdout"
        }
      ]
    },
    {
      "cell_type": "markdown",
      "metadata": {
        "id": "0K-Pt-b97Nyd"
      },
      "source": [
        "janome v0.4.0の変更点\n",
        "\n",
        "・Tokenizer はストリームモードのみサポートするように変更\n",
        "本バージョンより，Tokenizer は，メモリリークが起こりにくいストリームモードのみサポートします。具体的には，tokenize() メソッドの戻り値はリストではなくイテレータ（generator）のみとなり，また stream オプションは廃止となります。\n",
        "\n",
        "\n",
        "v0.3.x　なら\n",
        "\n",
        "['彼女', 'と', '国立', '新', '美術館', 'へ', '行っ', 'た', '。']\n",
        "\n",
        "と表示されるはず。"
      ]
    },
    {
      "cell_type": "markdown",
      "metadata": {
        "id": "c6htBJhRz2va"
      },
      "source": [
        "形態素解析結果かた特定の品詞だけを抽出する場合。\n",
        "\n",
        "* Analyzer：形態素解析の前処理や後処理を行えるクラス。\n",
        "* POSKeepFilter：指定した品詞を抽出するためのクラス。\n",
        "\n",
        "を使う。"
      ]
    },
    {
      "cell_type": "markdown",
      "metadata": {
        "id": "UEAwQRnL0rTr"
      },
      "source": [
        "手順\n",
        "\n",
        "\n",
        "1.   Analyzerにフィルタを渡して初期化。\n",
        "2.   analyzeメソッドを使ってテキストを解析。\n",
        "\n"
      ]
    },
    {
      "cell_type": "code",
      "metadata": {
        "id": "L7hUZREy0_MT"
      },
      "source": [
        "from janome.analyzer import Analyzer"
      ],
      "execution_count": 41,
      "outputs": []
    },
    {
      "cell_type": "code",
      "metadata": {
        "id": "R0Q0xAQ_1EhK"
      },
      "source": [
        "from janome.tokenfilter import POSKeepFilter"
      ],
      "execution_count": 42,
      "outputs": []
    },
    {
      "cell_type": "code",
      "metadata": {
        "id": "KgoLxNTS1KnU"
      },
      "source": [
        "#ファイルの定義"
      ],
      "execution_count": null,
      "outputs": []
    },
    {
      "cell_type": "code",
      "metadata": {
        "id": "GfuL7Ezn1NOj"
      },
      "source": [
        "token_filters = [POSKeepFilter('名詞')]"
      ],
      "execution_count": 43,
      "outputs": []
    },
    {
      "cell_type": "code",
      "metadata": {
        "id": "-U4x3ekU1WEM"
      },
      "source": [
        "a = Analyzer(token_filters=token_filters)"
      ],
      "execution_count": 44,
      "outputs": []
    },
    {
      "cell_type": "code",
      "metadata": {
        "colab": {
          "base_uri": "https://localhost:8080/"
        },
        "id": "kmvO0Mre1bf_",
        "outputId": "efb8762a-c488-4db3-e13d-6a25b02dd837"
      },
      "source": [
        "for token in a.analyze(text):\n",
        "    print(token)"
      ],
      "execution_count": 46,
      "outputs": [
        {
          "output_type": "stream",
          "text": [
            "彼女\t名詞,代名詞,一般,*,*,*,彼女,カノジョ,カノジョ\n",
            "国立\t名詞,一般,*,*,*,*,国立,コクリツ,コクリツ\n",
            "美術館\t名詞,一般,*,*,*,*,美術館,ビジュツカン,ビジュツカン\n"
          ],
          "name": "stdout"
        }
      ]
    },
    {
      "cell_type": "markdown",
      "metadata": {
        "id": "ii70VquQ2vIH"
      },
      "source": [
        "解析結果は名詞だけ抽出された。"
      ]
    },
    {
      "cell_type": "markdown",
      "metadata": {
        "id": "3f5riBnS24T-"
      },
      "source": [
        "Analyzerには複数のフィルタを渡すことが可能。"
      ]
    },
    {
      "cell_type": "markdown",
      "metadata": {
        "id": "0fY3oz7K3Cn4"
      },
      "source": [
        "**辞書に単語を追加する方法**\n",
        "\n",
        "その前に\n",
        "\n",
        "辞書の定義内容\n",
        "* 表層形\n",
        "* 左文脈ID\n",
        "* 右文脈ID\n",
        "* コスト：その単語がどれだけ出現しやすいか\n",
        "* 品詞\n",
        "* 品詞細分類1\n",
        "* 品詞細分類2\n",
        "* 品詞細分類3\n",
        "* 活用形\n",
        "* 活用型\n",
        "* 原形\n",
        "* 読み\n",
        "* 発音\n"
      ]
    },
    {
      "cell_type": "code",
      "metadata": {
        "id": "dvCC4cUd2u2p"
      },
      "source": [
        "from janome.tokenizer import Tokenizer"
      ],
      "execution_count": 47,
      "outputs": []
    },
    {
      "cell_type": "code",
      "metadata": {
        "id": "axhm7gIM5Wdx"
      },
      "source": [
        "t = Tokenizer(udic='userdic.csv', udic_enc='utf8')"
      ],
      "execution_count": 48,
      "outputs": []
    },
    {
      "cell_type": "code",
      "metadata": {
        "id": "oQim9Ohw5mZE"
      },
      "source": [
        "text = '彼女と国立新美術館へ行った。'"
      ],
      "execution_count": 49,
      "outputs": []
    },
    {
      "cell_type": "code",
      "metadata": {
        "colab": {
          "base_uri": "https://localhost:8080/"
        },
        "id": "zH6UZCMV5taM",
        "outputId": "20e44787-5b94-440e-db7a-c98dcaad0088"
      },
      "source": [
        "for token in t.tokenize(text):\n",
        "  print(token)"
      ],
      "execution_count": 50,
      "outputs": [
        {
          "output_type": "stream",
          "text": [
            "彼女\t名詞,代名詞,一般,*,*,*,彼女,カノジョ,カノジョ\n",
            "と\t助詞,並立助詞,*,*,*,*,と,ト,ト\n",
            "国立新美術館\t名詞,固有名詞,一般,*,*,*,国立新美術館,コクリツシンビジュツカン,コクリツシンビジュツカン\n",
            "へ\t助詞,格助詞,一般,*,*,*,へ,ヘ,エ\n",
            "行っ\t動詞,自立,*,*,五段・カ行促音便,連用タ接続,行く,イッ,イッ\n",
            "た\t助動詞,*,*,*,特殊・タ,基本形,た,タ,タ\n",
            "。\t記号,句点,*,*,*,*,。,。,。\n"
          ],
          "name": "stdout"
        }
      ]
    },
    {
      "cell_type": "markdown",
      "metadata": {
        "id": "jFtFmesk5WKi"
      },
      "source": [
        "「国立新美術館」が１単語として認識されるようになった。"
      ]
    }
  ]
}