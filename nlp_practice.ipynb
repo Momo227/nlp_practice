{
  "nbformat": 4,
  "nbformat_minor": 0,
  "metadata": {
    "colab": {
      "name": "nlp_practice.ipynb",
      "provenance": [],
      "toc_visible": true,
      "authorship_tag": "ABX9TyPliENyip1YfOH0NzLnNbm5",
      "include_colab_link": true
    },
    "kernelspec": {
      "name": "python3",
      "display_name": "Python 3"
    },
    "language_info": {
      "name": "python"
    }
  },
  "cells": [
    {
      "cell_type": "markdown",
      "metadata": {
        "id": "view-in-github",
        "colab_type": "text"
      },
      "source": [
        "<a href=\"https://colab.research.google.com/github/Momo227/nlp_practice/blob/Chapter3/nlp_practice.ipynb\" target=\"_parent\"><img src=\"https://colab.research.google.com/assets/colab-badge.svg\" alt=\"Open In Colab\"/></a>"
      ]
    },
    {
      "cell_type": "markdown",
      "metadata": {
        "id": "WxMJFUx4hh8V"
      },
      "source": [
        "# Chapter3  コーパス\n"
      ]
    },
    {
      "cell_type": "markdown",
      "metadata": {
        "id": "i2iDtL2vh-OA"
      },
      "source": [
        "＃データの読み込み\n"
      ]
    },
    {
      "cell_type": "markdown",
      "metadata": {
        "id": "IchPgeLkBk7Q"
      },
      "source": [
        "Pythonではファイルの読み書きにopen関数を使う。\n",
        "\n",
        "open関数は、引数として、\n",
        "*   ファイル名\n",
        "*   モード\n",
        "*   ファイルエンコーディング\n",
        "\n",
        "を指定してファイルを開く。\n",
        "\n",
        "open関数を呼び出すと、ファイルを操作するためのオブジェクトを返してくる。"
      ]
    },
    {
      "cell_type": "code",
      "metadata": {
        "colab": {
          "base_uri": "https://localhost:8080/",
          "height": 185
        },
        "id": "oNxarM_sAQ3v",
        "outputId": "08a530d4-5dfd-4b83-c7fa-922a6ff55390"
      },
      "source": [
        "f =  open('sample.txt', 'r', encoding='utf-8')\n",
        "f"
      ],
      "execution_count": 7,
      "outputs": [
        {
          "output_type": "error",
          "ename": "FileNotFoundError",
          "evalue": "ignored",
          "traceback": [
            "\u001b[0;31m---------------------------------------------------------------------------\u001b[0m",
            "\u001b[0;31mFileNotFoundError\u001b[0m                         Traceback (most recent call last)",
            "\u001b[0;32m<ipython-input-7-ca90a524a6bb>\u001b[0m in \u001b[0;36m<module>\u001b[0;34m()\u001b[0m\n\u001b[0;32m----> 1\u001b[0;31m \u001b[0mf\u001b[0m \u001b[0;34m=\u001b[0m  \u001b[0mopen\u001b[0m\u001b[0;34m(\u001b[0m\u001b[0;34m'sample.txt'\u001b[0m\u001b[0;34m,\u001b[0m \u001b[0;34m'r'\u001b[0m\u001b[0;34m,\u001b[0m \u001b[0mencoding\u001b[0m\u001b[0;34m=\u001b[0m\u001b[0;34m'utf-8'\u001b[0m\u001b[0;34m)\u001b[0m\u001b[0;34m\u001b[0m\u001b[0;34m\u001b[0m\u001b[0m\n\u001b[0m\u001b[1;32m      2\u001b[0m \u001b[0mf\u001b[0m\u001b[0;34m\u001b[0m\u001b[0;34m\u001b[0m\u001b[0m\n",
            "\u001b[0;31mFileNotFoundError\u001b[0m: [Errno 2] No such file or directory: 'sample.txt'"
          ]
        }
      ]
    },
    {
      "cell_type": "markdown",
      "metadata": {
        "id": "N18Bo2sAC5Wv"
      },
      "source": [
        "引数について\n",
        "\n",
        "・ファイル名：ファイル名を表す文字列"
      ]
    },
    {
      "cell_type": "markdown",
      "metadata": {
        "id": "JEAzhT14KGtK"
      },
      "source": [
        "・モード：ファイルの使用方法\n",
        "\n",
        "ファイルオブジェクト\n",
        "・read:ファイルの読み込み\n",
        "* ファイルの中身全体を読み込み、返り値として返す。\n",
        "* 一度呼び出すと、次に呼んだ時に空文字列を返す。\n",
        "* ファイルを使い終わったらを呼び出して閉じる。\n",
        "\n",
        "・write：ファイルの書き込み\n",
        "\n",
        "・add：追記"
      ]
    },
    {
      "cell_type": "code",
      "metadata": {
        "colab": {
          "base_uri": "https://localhost:8080/",
          "height": 35
        },
        "id": "Au4_p-zPBZ04",
        "outputId": "fe94db1c-29a7-4559-8d23-68d7ee08623f"
      },
      "source": [
        "f.read()"
      ],
      "execution_count": null,
      "outputs": [
        {
          "output_type": "execute_result",
          "data": {
            "application/vnd.google.colaboratory.intrinsic+json": {
              "type": "string"
            },
            "text/plain": [
              "'こんにちは。\\nファイル読み込み練習中。\\nAwesome!'"
            ]
          },
          "metadata": {
            "tags": []
          },
          "execution_count": 14
        }
      ]
    },
    {
      "cell_type": "code",
      "metadata": {
        "colab": {
          "base_uri": "https://localhost:8080/",
          "height": 35
        },
        "id": "aQwwV7MaK5cA",
        "outputId": "db2f5ea4-9d40-4538-aada-8e305746fde4"
      },
      "source": [
        "f.read()\n"
      ],
      "execution_count": null,
      "outputs": [
        {
          "output_type": "execute_result",
          "data": {
            "application/vnd.google.colaboratory.intrinsic+json": {
              "type": "string"
            },
            "text/plain": [
              "''"
            ]
          },
          "metadata": {
            "tags": []
          },
          "execution_count": 15
        }
      ]
    },
    {
      "cell_type": "code",
      "metadata": {
        "id": "0C_ODa-aK6a1"
      },
      "source": [
        "f.close()"
      ],
      "execution_count": null,
      "outputs": []
    },
    {
      "cell_type": "markdown",
      "metadata": {
        "id": "2E47yNWHLHAo"
      },
      "source": [
        "ファイルを1行ずつ読みたいとき\n",
        "\n",
        "・readlineメソッドを使う。\n",
        "\n",
        "ファイルから1行ずつ複数行読みたいとき\n",
        "\n",
        "・ファイルオブジェクトをfor文で回す。"
      ]
    },
    {
      "cell_type": "code",
      "metadata": {
        "colab": {
          "base_uri": "https://localhost:8080/",
          "height": 168
        },
        "id": "i9K1u3HfhCxr",
        "outputId": "b732d786-f984-4d4a-91c6-7e6913faee5d"
      },
      "source": [
        "f = open('sample.txt', 'r', encoding='utf-8')"
      ],
      "execution_count": 9,
      "outputs": [
        {
          "output_type": "error",
          "ename": "FileNotFoundError",
          "evalue": "ignored",
          "traceback": [
            "\u001b[0;31m---------------------------------------------------------------------------\u001b[0m",
            "\u001b[0;31mFileNotFoundError\u001b[0m                         Traceback (most recent call last)",
            "\u001b[0;32m<ipython-input-9-b344eaf62196>\u001b[0m in \u001b[0;36m<module>\u001b[0;34m()\u001b[0m\n\u001b[0;32m----> 1\u001b[0;31m \u001b[0mf\u001b[0m \u001b[0;34m=\u001b[0m \u001b[0mopen\u001b[0m\u001b[0;34m(\u001b[0m\u001b[0;34m'sample.txt'\u001b[0m\u001b[0;34m,\u001b[0m \u001b[0;34m'r'\u001b[0m\u001b[0;34m,\u001b[0m \u001b[0mencoding\u001b[0m\u001b[0;34m=\u001b[0m\u001b[0;34m'utf-8'\u001b[0m\u001b[0;34m)\u001b[0m\u001b[0;34m\u001b[0m\u001b[0;34m\u001b[0m\u001b[0m\n\u001b[0m",
            "\u001b[0;31mFileNotFoundError\u001b[0m: [Errno 2] No such file or directory: 'sample.txt'"
          ]
        }
      ]
    },
    {
      "cell_type": "code",
      "metadata": {
        "id": "hxxUUZ6AhRql"
      },
      "source": [
        "f.readline()"
      ],
      "execution_count": null,
      "outputs": []
    }
  ]
}